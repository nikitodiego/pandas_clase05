{
 "cells": [
  {
   "cell_type": "markdown",
   "id": "a8c1b19e-5340-4e20-a094-df10734a07ff",
   "metadata": {},
   "source": [
    "Ejercicio 1"
   ]
  },
  {
   "cell_type": "code",
   "execution_count": null,
   "id": "da449b0c-a25b-4b4e-b2f1-1c4f37cb9a1e",
   "metadata": {},
   "outputs": [],
   "source": [
    "import pandas as pd"
   ]
  },
  {
   "cell_type": "code",
   "execution_count": null,
   "id": "09b36917-d16c-450d-922c-7b85fbc8512c",
   "metadata": {
    "scrolled": true
   },
   "outputs": [],
   "source": [
    "df = pd.read_csv(\"netflix_titles.csv\")\n",
    "df"
   ]
  },
  {
   "cell_type": "markdown",
   "id": "fcb3fcfc-84c9-4b9a-8061-7e41bfbd306f",
   "metadata": {},
   "source": [
    "Ejercicio 2"
   ]
  },
  {
   "cell_type": "code",
   "execution_count": null,
   "id": "f8332240-5203-48d8-8622-0f698e91186c",
   "metadata": {},
   "outputs": [],
   "source": [
    "#Se genera una nueva columna \"splitted\" para separar países en caso de que haya más de uno por row.\n",
    "df[\"splitted\"]=df[\"country\"].str.split(\", \")\n",
    "df2 = df.explode(\"splitted\")\n",
    "df2"
   ]
  },
  {
   "cell_type": "markdown",
   "id": "5c922c41-0d54-49e2-9d43-4cf983ea9e8b",
   "metadata": {},
   "source": [
    "Ejercicio 3"
   ]
  },
  {
   "cell_type": "code",
   "execution_count": null,
   "id": "bd043c07-948c-437f-9cf5-4cfc251f3742",
   "metadata": {},
   "outputs": [],
   "source": [
    "ds=df[\"splitted\"].value_counts().head()\n",
    "ds"
   ]
  },
  {
   "cell_type": "markdown",
   "id": "655662d6-67e0-4866-872b-6091a00e041e",
   "metadata": {},
   "source": [
    "Ejercicio 4"
   ]
  },
  {
   "cell_type": "code",
   "execution_count": null,
   "id": "ac4053e6-12a9-473a-8790-818e2349b667",
   "metadata": {},
   "outputs": [],
   "source": [
    "df3 = df2[['splitted','date_added']].copy()\n",
    "df3[\"date_added\"] = pd.to_datetime(df3[\"date_added\"],format=\"mixed\")\n",
    "pd.concat((df3.groupby([\"splitted\"]).min(),df3.groupby([\"splitted\"]).max()),axis=1)"
   ]
  },
  {
   "cell_type": "markdown",
   "id": "3bcb1009-55ff-4406-be8e-a1e7bcb5adc9",
   "metadata": {},
   "source": [
    "Ejercicio 5"
   ]
  },
  {
   "cell_type": "code",
   "execution_count": null,
   "id": "dfb2ec2e-e109-49d0-830c-6a4c00af62a2",
   "metadata": {},
   "outputs": [],
   "source": [
    "df2.groupby(['splitted','rating'])['title'].count().head(20)"
   ]
  },
  {
   "cell_type": "markdown",
   "id": "7212fbf2-8845-46a2-bde4-89d70d35dc3a",
   "metadata": {},
   "source": [
    "Ejercicio 6"
   ]
  },
  {
   "cell_type": "markdown",
   "id": "4f107dfe-c743-41e6-a76c-a718028a84ac",
   "metadata": {},
   "source": [
    "Ejercicio 7"
   ]
  },
  {
   "cell_type": "code",
   "execution_count": null,
   "id": "b15470e5-1627-4cc2-93e9-d3d379671220",
   "metadata": {},
   "outputs": [],
   "source": [
    "df3[\"date_added\"] = pd.to_datetime(df3[\"date_added\"],format=\"%Y-%m-%d\")\n",
    "filtered_df = df3.loc[(df3['date_added'] >= '2020-01-01')\n",
    "                     & (df3['date_added'] < '2020-12-31')\n",
    "                     & (df3['splitted']==\"France\")]      \n",
    "filtered_df"
   ]
  },
  {
   "cell_type": "markdown",
   "id": "fa21e8a0-fcb2-4d9c-9a9f-12c726620d36",
   "metadata": {},
   "source": [
    "Ejercicio 8"
   ]
  },
  {
   "cell_type": "code",
   "execution_count": null,
   "id": "b0a0bd53-a189-4068-b2c7-8686cb7320d5",
   "metadata": {},
   "outputs": [],
   "source": [
    "#Encuentro los 5 países con más títulos.\n",
    "columns = df2[\"splitted\"].value_counts()[:5]\n",
    "columns"
   ]
  },
  {
   "cell_type": "code",
   "execution_count": null,
   "id": "5331f438-2ac8-43b5-9fb8-54258b80c866",
   "metadata": {},
   "outputs": [],
   "source": [
    "#Se crea una lista con los 5 países\n",
    "values= columns.index.tolist()\n",
    "values\n",
    "#Se buscan los últimos 10 años\n",
    "years_last10=df2[\"release_year\"].max()-10"
   ]
  },
  {
   "cell_type": "code",
   "execution_count": null,
   "id": "53561023-d6fa-4ecc-894a-97e3c2ff4e10",
   "metadata": {},
   "outputs": [],
   "source": [
    "df2.query(\"splitted == @values\").query(\"release_year > @years_last10\")"
   ]
  },
  {
   "cell_type": "markdown",
   "id": "80f6c1fe-5d20-4841-aeea-bf1814392991",
   "metadata": {},
   "source": [
    "Ejercicio 9"
   ]
  },
  {
   "cell_type": "code",
   "execution_count": null,
   "id": "f02ef43e-7ae1-4868-a20c-c199a18a2848",
   "metadata": {},
   "outputs": [],
   "source": [
    "series = df2[\"release_year\"].value_counts()\n",
    "series.plot(ylabel=\"cantidad de titles\")"
   ]
  }
 ],
 "metadata": {
  "kernelspec": {
   "display_name": "kernel_pda",
   "language": "python",
   "name": "kernel_pda"
  },
  "language_info": {
   "codemirror_mode": {
    "name": "ipython",
    "version": 3
   },
   "file_extension": ".py",
   "mimetype": "text/x-python",
   "name": "python",
   "nbconvert_exporter": "python",
   "pygments_lexer": "ipython3",
   "version": "3.11.5"
  }
 },
 "nbformat": 4,
 "nbformat_minor": 5
}
